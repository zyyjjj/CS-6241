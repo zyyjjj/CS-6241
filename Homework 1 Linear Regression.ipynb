{
 "cells": [
  {
   "cell_type": "markdown",
   "metadata": {},
   "source": [
    "## CS 6241 Homework 1\n",
    "### Fitting linear regression models to predict wine quality\n",
    "Yujia Zhang yz685@cornell.edu"
   ]
  },
  {
   "cell_type": "code",
   "execution_count": 19,
   "metadata": {},
   "outputs": [],
   "source": [
    "import numpy as np\n",
    "import matplotlib.pyplot as plt\n",
    "import pandas as pd\n",
    "from sklearn import linear_model"
   ]
  },
  {
   "cell_type": "code",
   "execution_count": 20,
   "metadata": {},
   "outputs": [],
   "source": [
    "#data is from https://www.kaggle.com/uciml/red-wine-quality-cortez-et-al-2009/data\n",
    "data=pd.read_csv(\"/Users/yujiazhang/Desktop/CS 6241/Homework 1/winequality-red.csv\")"
   ]
  },
  {
   "cell_type": "code",
   "execution_count": 21,
   "metadata": {},
   "outputs": [
    {
     "data": {
      "text/html": [
       "<div>\n",
       "<style scoped>\n",
       "    .dataframe tbody tr th:only-of-type {\n",
       "        vertical-align: middle;\n",
       "    }\n",
       "\n",
       "    .dataframe tbody tr th {\n",
       "        vertical-align: top;\n",
       "    }\n",
       "\n",
       "    .dataframe thead th {\n",
       "        text-align: right;\n",
       "    }\n",
       "</style>\n",
       "<table border=\"1\" class=\"dataframe\">\n",
       "  <thead>\n",
       "    <tr style=\"text-align: right;\">\n",
       "      <th></th>\n",
       "      <th>fixed acidity</th>\n",
       "      <th>volatile acidity</th>\n",
       "      <th>citric acid</th>\n",
       "      <th>residual sugar</th>\n",
       "      <th>chlorides</th>\n",
       "      <th>free sulfur dioxide</th>\n",
       "      <th>total sulfur dioxide</th>\n",
       "      <th>density</th>\n",
       "      <th>pH</th>\n",
       "      <th>sulphates</th>\n",
       "      <th>alcohol</th>\n",
       "      <th>quality</th>\n",
       "    </tr>\n",
       "  </thead>\n",
       "  <tbody>\n",
       "    <tr>\n",
       "      <th>0</th>\n",
       "      <td>7.4</td>\n",
       "      <td>0.70</td>\n",
       "      <td>0.00</td>\n",
       "      <td>1.9</td>\n",
       "      <td>0.076</td>\n",
       "      <td>11.0</td>\n",
       "      <td>34.0</td>\n",
       "      <td>0.9978</td>\n",
       "      <td>3.51</td>\n",
       "      <td>0.56</td>\n",
       "      <td>9.4</td>\n",
       "      <td>5</td>\n",
       "    </tr>\n",
       "    <tr>\n",
       "      <th>1</th>\n",
       "      <td>7.8</td>\n",
       "      <td>0.88</td>\n",
       "      <td>0.00</td>\n",
       "      <td>2.6</td>\n",
       "      <td>0.098</td>\n",
       "      <td>25.0</td>\n",
       "      <td>67.0</td>\n",
       "      <td>0.9968</td>\n",
       "      <td>3.20</td>\n",
       "      <td>0.68</td>\n",
       "      <td>9.8</td>\n",
       "      <td>5</td>\n",
       "    </tr>\n",
       "    <tr>\n",
       "      <th>2</th>\n",
       "      <td>7.8</td>\n",
       "      <td>0.76</td>\n",
       "      <td>0.04</td>\n",
       "      <td>2.3</td>\n",
       "      <td>0.092</td>\n",
       "      <td>15.0</td>\n",
       "      <td>54.0</td>\n",
       "      <td>0.9970</td>\n",
       "      <td>3.26</td>\n",
       "      <td>0.65</td>\n",
       "      <td>9.8</td>\n",
       "      <td>5</td>\n",
       "    </tr>\n",
       "    <tr>\n",
       "      <th>3</th>\n",
       "      <td>11.2</td>\n",
       "      <td>0.28</td>\n",
       "      <td>0.56</td>\n",
       "      <td>1.9</td>\n",
       "      <td>0.075</td>\n",
       "      <td>17.0</td>\n",
       "      <td>60.0</td>\n",
       "      <td>0.9980</td>\n",
       "      <td>3.16</td>\n",
       "      <td>0.58</td>\n",
       "      <td>9.8</td>\n",
       "      <td>6</td>\n",
       "    </tr>\n",
       "    <tr>\n",
       "      <th>4</th>\n",
       "      <td>7.4</td>\n",
       "      <td>0.70</td>\n",
       "      <td>0.00</td>\n",
       "      <td>1.9</td>\n",
       "      <td>0.076</td>\n",
       "      <td>11.0</td>\n",
       "      <td>34.0</td>\n",
       "      <td>0.9978</td>\n",
       "      <td>3.51</td>\n",
       "      <td>0.56</td>\n",
       "      <td>9.4</td>\n",
       "      <td>5</td>\n",
       "    </tr>\n",
       "  </tbody>\n",
       "</table>\n",
       "</div>"
      ],
      "text/plain": [
       "   fixed acidity  volatile acidity  citric acid  residual sugar  chlorides  \\\n",
       "0            7.4              0.70         0.00             1.9      0.076   \n",
       "1            7.8              0.88         0.00             2.6      0.098   \n",
       "2            7.8              0.76         0.04             2.3      0.092   \n",
       "3           11.2              0.28         0.56             1.9      0.075   \n",
       "4            7.4              0.70         0.00             1.9      0.076   \n",
       "\n",
       "   free sulfur dioxide  total sulfur dioxide  density    pH  sulphates  \\\n",
       "0                 11.0                  34.0   0.9978  3.51       0.56   \n",
       "1                 25.0                  67.0   0.9968  3.20       0.68   \n",
       "2                 15.0                  54.0   0.9970  3.26       0.65   \n",
       "3                 17.0                  60.0   0.9980  3.16       0.58   \n",
       "4                 11.0                  34.0   0.9978  3.51       0.56   \n",
       "\n",
       "   alcohol  quality  \n",
       "0      9.4        5  \n",
       "1      9.8        5  \n",
       "2      9.8        5  \n",
       "3      9.8        6  \n",
       "4      9.4        5  "
      ]
     },
     "execution_count": 21,
     "metadata": {},
     "output_type": "execute_result"
    }
   ],
   "source": [
    "data.head()"
   ]
  },
  {
   "cell_type": "code",
   "execution_count": 30,
   "metadata": {},
   "outputs": [
    {
     "name": "stdout",
     "output_type": "stream",
     "text": [
      "coefficients: [ 2.20655304e-02 -1.10609643e+00 -1.88336165e-01  8.17357745e-03\n",
      " -1.76877460e+00  3.33963795e-03 -3.60273580e-03 -1.55888592e+01\n",
      " -3.37284430e-01  8.09845987e-01  2.82003081e-01]\n",
      "intercept: 19.5355527529228\n",
      "mean squared error: 0.4263410670171544\n",
      "R squared: 0.2871518279222891\n"
     ]
    }
   ],
   "source": [
    "from sklearn.metrics import mean_squared_error, r2_score\n",
    "\n",
    "variables = ['fixed acidity', 'volatile acidity', 'citric acid', 'residual sugar',\\\n",
    "             'chlorides', 'free sulfur dioxide', 'total sulfur dioxide', \\\n",
    "             'density', 'pH', 'sulphates', 'alcohol']\n",
    "trainsize = 1300\n",
    "xtrain = data[variables][0:trainsize]\n",
    "xtest = data[variables][trainsize:1598]\n",
    "ytrain = data['quality'][0:trainsize]\n",
    "ytest = data['quality'][trainsize:1598]\n",
    "\n",
    "reg = linear_model.LinearRegression()\n",
    "reg.fit(xtrain, ytrain)\n",
    "print('coefficients: '+str(reg.coef_))\n",
    "print('intercept: '+str(reg.intercept_))\n",
    "\n",
    "# predict test set output and calculate mean squared error\n",
    "pred = reg.predict(xtest)\n",
    "print('mean squared error: '+str(mean_squared_error(pred, ytest)))\n",
    "print('R squared: '+str(r2_score(ytest, pred)))"
   ]
  },
  {
   "cell_type": "code",
   "execution_count": 33,
   "metadata": {},
   "outputs": [
    {
     "data": {
      "text/plain": [
       "Text(0.5, 1.0, 'Shrinkage of ridge regression coefficients')"
      ]
     },
     "execution_count": 33,
     "metadata": {},
     "output_type": "execute_result"
    },
    {
     "data": {
      "image/png": "[encoded data removed]",
      "text/plain": [
       "<Figure size 432x288 with 1 Axes>"
      ]
     },
     "metadata": {
      "needs_background": "light"
     },
     "output_type": "display_data"
    }
   ],
   "source": [
    "# ridge regression\n",
    "Ridge_alphas = np.arange(0.5, 10, 0.5)\n",
    "Ridge_coeffs = np.zeros([len(Ridge_alphas),len(variables)])\n",
    "\n",
    "# record coefficients for a range of alphas\n",
    "for i in range(len(Ridge_alphas)):\n",
    "    regRidge = linear_model.Ridge(alpha=Ridge_alphas[i])\n",
    "    regRidge.fit(xtrain, ytrain)\n",
    "    Ridge_coeffs[i] = regRidge.coef_\n",
    "\n",
    "plt.plot(Ridge_alphas,Ridge_coeffs)\n",
    "plt.xlabel('alpha (penalty parameter)')\n",
    "plt.ylabel('Regression coefficients')\n",
    "plt.title('Shrinkage of ridge regression coefficients')"
   ]
  },
  {
   "cell_type": "code",
   "execution_count": 36,
   "metadata": {},
   "outputs": [
    {
     "data": {
      "text/plain": [
       "Text(0.5, 1.0, 'Shrinkage of Lasso regression coefficients')"
      ]
     },
     "execution_count": 36,
     "metadata": {},
     "output_type": "execute_result"
    },
    {
     "data": {
      "image/png": "[encoded data removed]",
      "text/plain": [
       "<Figure size 432x288 with 1 Axes>"
      ]
     },
     "metadata": {
      "needs_background": "light"
     },
     "output_type": "display_data"
    }
   ],
   "source": [
    "# lasso regression\n",
    "Lasso_alphas = np.arange(0.01, 0.11, 0.01)\n",
    "Lasso_coeffs = np.zeros([len(Lasso_alphas),len(variables)])\n",
    "\n",
    "# record coefficients for a range of lambdas\n",
    "for i in range(len(Lasso_alphas)):\n",
    "    regLasso = linear_model.Lasso(alpha=Lasso_alphas[i])\n",
    "    regLasso.fit(xtrain, ytrain)\n",
    "    Lasso_coeffs[i] = regLasso.coef_\n",
    "\n",
    "\n",
    "plt.plot(Lasso_alphas,Lasso_coeffs)\n",
    "plt.xlabel('lambda (penalty parameter)')\n",
    "plt.ylabel('Regression coefficients')\n",
    "plt.title('Shrinkage of Lasso regression coefficients')"
   ]
  },
  {
   "cell_type": "code",
   "execution_count": 61,
   "metadata": {},
   "outputs": [
    {
     "name": "stdout",
     "output_type": "stream",
     "text": [
      "lambda selected by CV: 0.007093800138749651\n",
      "coefficients: [ 0.0263459  -0.93390646 -0.         -0.         -0.          0.00381155\n",
      " -0.00345486 -0.         -0.          0.38688414  0.30601492]\n",
      "intercept: 2.5812837579120034\n",
      "mean squared error: 0.44537909899294303\n",
      "R squared: 0.2553199746390775\n"
     ]
    }
   ],
   "source": [
    "# run cross-validation to choose the best lambda for lasso\n",
    "\n",
    "regLassoCV = linear_model.LassoCV(cv=5, random_state=0).fit(xtrain, ytrain)\n",
    "lambdaCV = regLassoCV.alpha_\n",
    "print('lambda selected by CV: '+str(lambdaCV))\n",
    "\n",
    "# then apply this best lambda to fit the coefficients\n",
    "regLasso = linear_model.Lasso(alpha=lambdaCV)\n",
    "regLasso.fit(xtrain, ytrain)\n",
    "print('coefficients: '+str(regLasso.coef_))\n",
    "print('intercept: '+str(regLasso.intercept_))\n",
    "\n",
    "# predict on test set\n",
    "predLasso = regLasso.predict(xtest)\n",
    "print('mean squared error: '+str(mean_squared_error(predLasso, ytest)))\n",
    "print('R squared: '+str(r2_score(ytest, predLasso)))"
   ]
  },
  {
   "cell_type": "code",
   "execution_count": null,
   "metadata": {},
   "outputs": [],
   "source": []
  }
 ],
 "metadata": {
  "kernelspec": {
   "display_name": "Python 3",
   "language": "python",
   "name": "python3"
  },
  "language_info": {
   "codemirror_mode": {
    "name": "ipython",
    "version": 3
   },
   "file_extension": ".py",
   "mimetype": "text/x-python",
   "name": "python",
   "nbconvert_exporter": "python",
   "pygments_lexer": "ipython3",
   "version": "3.7.1"
  }
 },
 "nbformat": 4,
 "nbformat_minor": 2
}
