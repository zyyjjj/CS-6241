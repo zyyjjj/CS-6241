{
 "cells": [
  {
   "cell_type": "markdown",
   "metadata": {},
   "source": [
    "Fitting linear regression models to predicting wine quality"
   ]
  },
  {
   "cell_type": "code",
   "execution_count": 1,
   "metadata": {},
   "outputs": [],
   "source": [
    "import numpy as np\n",
    "import matplotlib.pyplot as plt\n",
    "import pandas as pd\n",
    "from sklearn import linear_model"
   ]
  },
  {
   "cell_type": "code",
   "execution_count": 2,
   "metadata": {},
   "outputs": [],
   "source": [
    "#data is from https://www.kaggle.com/uciml/red-wine-quality-cortez-et-al-2009/data\n",
    "data=pd.read_csv(\"/Users/yujiazhang/Desktop/CS 6241/Homework 1/winequality-red.csv\")"
   ]
  },
  {
   "cell_type": "code",
   "execution_count": 3,
   "metadata": {},
   "outputs": [
    {
     "data": {
      "text/html": [
       "<div>\n",
       "<style scoped>\n",
       "    .dataframe tbody tr th:only-of-type {\n",
       "        vertical-align: middle;\n",
       "    }\n",
       "\n",
       "    .dataframe tbody tr th {\n",
       "        vertical-align: top;\n",
       "    }\n",
       "\n",
       "    .dataframe thead th {\n",
       "        text-align: right;\n",
       "    }\n",
       "</style>\n",
       "<table border=\"1\" class=\"dataframe\">\n",
       "  <thead>\n",
       "    <tr style=\"text-align: right;\">\n",
       "      <th></th>\n",
       "      <th>fixed acidity</th>\n",
       "      <th>volatile acidity</th>\n",
       "      <th>citric acid</th>\n",
       "      <th>residual sugar</th>\n",
       "      <th>chlorides</th>\n",
       "      <th>free sulfur dioxide</th>\n",
       "      <th>total sulfur dioxide</th>\n",
       "      <th>density</th>\n",
       "      <th>pH</th>\n",
       "      <th>sulphates</th>\n",
       "      <th>alcohol</th>\n",
       "      <th>quality</th>\n",
       "    </tr>\n",
       "  </thead>\n",
       "  <tbody>\n",
       "    <tr>\n",
       "      <th>0</th>\n",
       "      <td>7.4</td>\n",
       "      <td>0.70</td>\n",
       "      <td>0.00</td>\n",
       "      <td>1.9</td>\n",
       "      <td>0.076</td>\n",
       "      <td>11.0</td>\n",
       "      <td>34.0</td>\n",
       "      <td>0.9978</td>\n",
       "      <td>3.51</td>\n",
       "      <td>0.56</td>\n",
       "      <td>9.4</td>\n",
       "      <td>5</td>\n",
       "    </tr>\n",
       "    <tr>\n",
       "      <th>1</th>\n",
       "      <td>7.8</td>\n",
       "      <td>0.88</td>\n",
       "      <td>0.00</td>\n",
       "      <td>2.6</td>\n",
       "      <td>0.098</td>\n",
       "      <td>25.0</td>\n",
       "      <td>67.0</td>\n",
       "      <td>0.9968</td>\n",
       "      <td>3.20</td>\n",
       "      <td>0.68</td>\n",
       "      <td>9.8</td>\n",
       "      <td>5</td>\n",
       "    </tr>\n",
       "    <tr>\n",
       "      <th>2</th>\n",
       "      <td>7.8</td>\n",
       "      <td>0.76</td>\n",
       "      <td>0.04</td>\n",
       "      <td>2.3</td>\n",
       "      <td>0.092</td>\n",
       "      <td>15.0</td>\n",
       "      <td>54.0</td>\n",
       "      <td>0.9970</td>\n",
       "      <td>3.26</td>\n",
       "      <td>0.65</td>\n",
       "      <td>9.8</td>\n",
       "      <td>5</td>\n",
       "    </tr>\n",
       "    <tr>\n",
       "      <th>3</th>\n",
       "      <td>11.2</td>\n",
       "      <td>0.28</td>\n",
       "      <td>0.56</td>\n",
       "      <td>1.9</td>\n",
       "      <td>0.075</td>\n",
       "      <td>17.0</td>\n",
       "      <td>60.0</td>\n",
       "      <td>0.9980</td>\n",
       "      <td>3.16</td>\n",
       "      <td>0.58</td>\n",
       "      <td>9.8</td>\n",
       "      <td>6</td>\n",
       "    </tr>\n",
       "    <tr>\n",
       "      <th>4</th>\n",
       "      <td>7.4</td>\n",
       "      <td>0.70</td>\n",
       "      <td>0.00</td>\n",
       "      <td>1.9</td>\n",
       "      <td>0.076</td>\n",
       "      <td>11.0</td>\n",
       "      <td>34.0</td>\n",
       "      <td>0.9978</td>\n",
       "      <td>3.51</td>\n",
       "      <td>0.56</td>\n",
       "      <td>9.4</td>\n",
       "      <td>5</td>\n",
       "    </tr>\n",
       "  </tbody>\n",
       "</table>\n",
       "</div>"
      ],
      "text/plain": [
       "   fixed acidity  volatile acidity  citric acid  residual sugar  chlorides  \\\n",
       "0            7.4              0.70         0.00             1.9      0.076   \n",
       "1            7.8              0.88         0.00             2.6      0.098   \n",
       "2            7.8              0.76         0.04             2.3      0.092   \n",
       "3           11.2              0.28         0.56             1.9      0.075   \n",
       "4            7.4              0.70         0.00             1.9      0.076   \n",
       "\n",
       "   free sulfur dioxide  total sulfur dioxide  density    pH  sulphates  \\\n",
       "0                 11.0                  34.0   0.9978  3.51       0.56   \n",
       "1                 25.0                  67.0   0.9968  3.20       0.68   \n",
       "2                 15.0                  54.0   0.9970  3.26       0.65   \n",
       "3                 17.0                  60.0   0.9980  3.16       0.58   \n",
       "4                 11.0                  34.0   0.9978  3.51       0.56   \n",
       "\n",
       "   alcohol  quality  \n",
       "0      9.4        5  \n",
       "1      9.8        5  \n",
       "2      9.8        5  \n",
       "3      9.8        6  \n",
       "4      9.4        5  "
      ]
     },
     "execution_count": 3,
     "metadata": {},
     "output_type": "execute_result"
    }
   ],
   "source": [
    "data.head()"
   ]
  },
  {
   "cell_type": "code",
   "execution_count": 5,
   "metadata": {},
   "outputs": [
    {
     "name": "stdout",
     "output_type": "stream",
     "text": [
      "coefficients: \n",
      "[ 4.68226978e-02 -1.06858847e+00 -2.69078072e-01  3.46373237e-02\n",
      " -1.60559854e+00  3.48715209e-03 -3.77404055e-03 -3.91307833e+01\n",
      " -2.53835069e-01  7.71874679e-01  2.69457226e-01]\n",
      "mean squared error: 0.460527374413482\n"
     ]
    }
   ],
   "source": [
    "variables = ['fixed acidity', 'volatile acidity', 'citric acid', 'residual sugar',\\\n",
    "             'chlorides', 'free sulfur dioxide', 'total sulfur dioxide', \\\n",
    "             'density', 'pH', 'sulphates', 'alcohol']\n",
    "trainsize = 1200\n",
    "xtrain = data[variables][0:trainsize]\n",
    "xtest = data[variables][trainsize:1597]\n",
    "ytrain = data['quality'][0:trainsize]\n",
    "ytest = data['quality'][trainsize:1597]\n",
    "\n",
    "reg = linear_model.LinearRegression()\n",
    "reg.fit(xtrain, ytrain)\n",
    "print('coefficients: ')\n",
    "print(reg.coef_)\n",
    "\n",
    "# predict test set output and calculate mean squared error\n",
    "pred = reg.predict(xtest)\n",
    "print('mean squared error: '+str(sum((pred-ytest)**2)/397))"
   ]
  },
  {
   "cell_type": "code",
   "execution_count": 84,
   "metadata": {},
   "outputs": [
    {
     "data": {
      "text/plain": [
       "Text(0.5, 1.0, 'Shrinkage of ridge regression coefficients')"
      ]
     },
     "execution_count": 84,
     "metadata": {},
     "output_type": "execute_result"
    },
    {
     "data": {
      "image/png": "[encoded data removed]",
      "text/plain": [
       "<Figure size 432x288 with 1 Axes>"
      ]
     },
     "metadata": {
      "needs_background": "light"
     },
     "output_type": "display_data"
    }
   ],
   "source": [
    "# remember to do trace plots for both ridge and lasso to illustrate shrinkage\n",
    "# TO DO: choose regularization parameter via cross-validation\n",
    "\n",
    "Ridge_alphas = np.arange(0.5, 10, 0.5)\n",
    "Ridge_coeffs = np.zeros([len(alphas),len(variables)])\n",
    "\n",
    "\n",
    "for i in range(len(alphas)):\n",
    "    regRidge = linear_model.Ridge(alpha=Ridge_alphas[i])\n",
    "    regRidge.fit(xtrain, ytrain)\n",
    "    Ridge_coeffs[i] = regRidge.coef_\n",
    "\n",
    "plt.plot(Ridge_alphas,Ridge_coeffs)\n",
    "#loc,_ = plt.xticks()\n",
    "#plt.xticks(loc,alphas)\n",
    "plt.xlabel('alpha (penalty parameter)')\n",
    "plt.ylabel('Regression coefficients')\n",
    "plt.title('Shrinkage of ridge regression coefficients')"
   ]
  },
  {
   "cell_type": "code",
   "execution_count": 72,
   "metadata": {},
   "outputs": [
    {
     "data": {
      "text/plain": [
       "array([-2.5,  0. ,  2.5,  5. ,  7.5, 10. , 12.5, 15. , 17.5, 20. ])"
      ]
     },
     "execution_count": 72,
     "metadata": {},
     "output_type": "execute_result"
    }
   ],
   "source": [
    "loc"
   ]
  },
  {
   "cell_type": "code",
   "execution_count": 83,
   "metadata": {},
   "outputs": [
    {
     "data": {
      "text/plain": [
       "Text(0.5, 1.0, 'Shrinkage of Lasso regression coefficients')"
      ]
     },
     "execution_count": 83,
     "metadata": {},
     "output_type": "execute_result"
    },
    {
     "data": {
      "image/png": "[encoded data removed]",
      "text/plain": [
       "<Figure size 432x288 with 1 Axes>"
      ]
     },
     "metadata": {
      "needs_background": "light"
     },
     "output_type": "display_data"
    }
   ],
   "source": [
    "#regLasso = linear_model.Lasso(alpha=0.2)\n",
    "#regLasso.fit(xtrain, ytrain)\n",
    "#print('coefficients:')\n",
    "#print(regLasso.coef_)\n",
    "\n",
    "\n",
    "Lasso_alphas = np.arange(0.01, 0.3, 0.01)\n",
    "Lasso_coeffs = np.zeros([len(Lasso_alphas),len(variables)])\n",
    "\n",
    "\n",
    "for i in range(len(alphas)):\n",
    "    regLasso = linear_model.Lasso(alpha=Lasso_alphas[i])\n",
    "    regLasso.fit(xtrain, ytrain)\n",
    "    Lasso_coeffs[i] = regLasso.coef_\n",
    "\n",
    "\n",
    "plt.plot(Lasso_alphas,Lasso_coeffs)\n",
    "#loc,_ = plt.xticks()\n",
    "#plt.xticks(loc,alphas)\n",
    "plt.xlabel('alpha (penalty parameter)')\n",
    "plt.ylabel('Regression coefficients')\n",
    "plt.title('Shrinkage of Lasso regression coefficients')"
   ]
  },
  {
   "cell_type": "code",
   "execution_count": 52,
   "metadata": {},
   "outputs": [
    {
     "data": {
      "text/plain": [
       "[<matplotlib.lines.Line2D at 0x1a1e584400>,\n",
       " <matplotlib.lines.Line2D at 0x1a1e584550>,\n",
       " <matplotlib.lines.Line2D at 0x1a1e5846a0>,\n",
       " <matplotlib.lines.Line2D at 0x1a1e5847f0>,\n",
       " <matplotlib.lines.Line2D at 0x1a1e584940>,\n",
       " <matplotlib.lines.Line2D at 0x1a1e584a90>,\n",
       " <matplotlib.lines.Line2D at 0x1a1e584be0>,\n",
       " <matplotlib.lines.Line2D at 0x1a1e584d30>,\n",
       " <matplotlib.lines.Line2D at 0x1a1e584e80>,\n",
       " <matplotlib.lines.Line2D at 0x1a1e584fd0>,\n",
       " <matplotlib.lines.Line2D at 0x1a1e4d0400>]"
      ]
     },
     "execution_count": 52,
     "metadata": {},
     "output_type": "execute_result"
    },
    {
     "data": {
      "image/png": "[encoded data removed]",
      "text/plain": [
       "<Figure size 432x288 with 1 Axes>"
      ]
     },
     "metadata": {
      "needs_background": "light"
     },
     "output_type": "display_data"
    }
   ],
   "source": [
    "plt.plot(coeffs)"
   ]
  },
  {
   "cell_type": "code",
   "execution_count": null,
   "metadata": {},
   "outputs": [],
   "source": []
  }
 ],
 "metadata": {
  "kernelspec": {
   "display_name": "Python 3",
   "language": "python",
   "name": "python3"
  },
  "language_info": {
   "codemirror_mode": {
    "name": "ipython",
    "version": 3
   },
   "file_extension": ".py",
   "mimetype": "text/x-python",
   "name": "python",
   "nbconvert_exporter": "python",
   "pygments_lexer": "ipython3",
   "version": "3.7.1"
  }
 },
 "nbformat": 4,
 "nbformat_minor": 2
}
